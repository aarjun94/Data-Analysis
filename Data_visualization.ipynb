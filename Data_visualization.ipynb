{
 "cells": [
  {
   "cell_type": "markdown",
   "metadata": {
    "colab_type": "text",
    "id": "UGqk3SzXsMR3",
    "tags": []
   },
   "source": [
    "# SI 618 - Homework #3: Data Visualization\n",
    "\n",
    "Version 2022.01.30.1.CT"
   ]
  },
  {
   "cell_type": "markdown",
   "metadata": {
    "colab_type": "text",
    "id": "UiAKCrOR2gYt"
   },
   "source": [
    "## Background"
   ]
  },
  {
   "cell_type": "markdown",
   "metadata": {
    "colab_type": "text",
    "id": "5_xhHLHr2gYu"
   },
   "source": [
    "This homework assignment focuses on the visual analysis of the COVID-19 data avaiable here: https://covid19datahub.io/articles/api/python.html. A description of the dataset can be found at https://covid19datahub.io/articles/doc/data.html\n",
    "\n",
    "Your main task in this assignment is to explore the data *using the data manipulation, analysis, and visualization methods we covered in class* as well as those in the assigned readings.  You may need to consult pandas, matplotlib and seaborn documentation, as well as Stack Overflow, or other online resources.  "
   ]
  },
  {
   "cell_type": "markdown",
   "metadata": {
    "colab_type": "text",
    "id": "d5D_nveM2gYv"
   },
   "source": [
    "## Total Points and Rubric\n",
    "\n",
    "Each question is worth the same number of points.  Points will be allocated according to the following rubric:\n",
    "\n",
    "- 90-100%: Question is correctly and completely answered.  Answer consists of well-written code that conforms to [PEP 8](https://www.python.org/dev/peps/pep-0008/) guidelines and is \n",
    "accompanied by a written interpretation in a Markdown block.  Written interpretation does not contain spelling, grammar or stylistic errors (see https://faculty.washington.edu/heagerty/Courses/b572/public/StrunkWhite.pdf for a detailed specifications).  Minor problems, such as formatting, incorrect submissions, missing names, etc. will result in less than 100%.\n",
    "- 75-85% : Answer is mostly complete and correct; two or fewer noticeable omissions or errors.  Minor stylistic flaws, either in code or in \n",
    "written interpretation.\n",
    "- 50-70%: Answer has significant omissions or errors; Noticeable departure from PEP-8 guildelines and/or moderate spelling, grammar, or style issues\n",
    "in written interpretations.\n",
    "- 25-45%: Question is perfunctorily attempted.  Substantial parts are missing or incorrect.\n",
    "- 0 points: Question not attempted."
   ]
  },
  {
   "cell_type": "markdown",
   "metadata": {},
   "source": [
    "* 'My unique name' : aarjun\n",
    "* I have done this home in collaboration with Kashmira Sawant (ksawant)"
   ]
  },
  {
   "cell_type": "markdown",
   "metadata": {
    "colab_type": "text",
    "id": "mZBwJn1J2gYv",
    "tags": []
   },
   "source": [
    "## Getting the data\n",
    "\n",
    "\n",
    "The following cell should install the most up-to-date version of the \n",
    "COVID-19 datahub.  Alternatively, you can consult the datahub documentation to download the data files directly."
   ]
  },
  {
   "cell_type": "code",
   "execution_count": 2,
   "metadata": {
    "colab": {
     "base_uri": "https://localhost:8080/",
     "height": 272
    },
    "colab_type": "code",
    "id": "evStchCv2gYw",
    "outputId": "db9bb133-58be-481a-f12e-5077489bb275"
   },
   "outputs": [
    {
     "name": "stdout",
     "output_type": "stream",
     "text": [
      "Requirement already satisfied: covid19dh in /Users/arjunanandapadmanabhan/opt/anaconda3/lib/python3.8/site-packages (2.3.0)\n",
      "Requirement already satisfied: requests in /Users/arjunanandapadmanabhan/opt/anaconda3/lib/python3.8/site-packages (from covid19dh) (2.26.0)\n",
      "Requirement already satisfied: pandas in /Users/arjunanandapadmanabhan/opt/anaconda3/lib/python3.8/site-packages (from covid19dh) (1.2.4)\n",
      "Requirement already satisfied: python-dateutil>=2.7.3 in /Users/arjunanandapadmanabhan/opt/anaconda3/lib/python3.8/site-packages (from pandas->covid19dh) (2.8.1)\n",
      "Requirement already satisfied: pytz>=2017.3 in /Users/arjunanandapadmanabhan/opt/anaconda3/lib/python3.8/site-packages (from pandas->covid19dh) (2021.1)\n",
      "Requirement already satisfied: numpy>=1.16.5 in /Users/arjunanandapadmanabhan/opt/anaconda3/lib/python3.8/site-packages (from pandas->covid19dh) (1.20.1)\n",
      "Requirement already satisfied: certifi>=2017.4.17 in /Users/arjunanandapadmanabhan/opt/anaconda3/lib/python3.8/site-packages (from requests->covid19dh) (2020.12.5)\n",
      "Requirement already satisfied: idna<4,>=2.5 in /Users/arjunanandapadmanabhan/opt/anaconda3/lib/python3.8/site-packages (from requests->covid19dh) (2.10)\n",
      "Requirement already satisfied: urllib3<1.27,>=1.21.1 in /Users/arjunanandapadmanabhan/opt/anaconda3/lib/python3.8/site-packages (from requests->covid19dh) (1.26.4)\n",
      "Requirement already satisfied: charset-normalizer~=2.0.0 in /Users/arjunanandapadmanabhan/opt/anaconda3/lib/python3.8/site-packages (from requests->covid19dh) (2.0.7)\n",
      "Requirement already satisfied: six>=1.5 in /Users/arjunanandapadmanabhan/opt/anaconda3/lib/python3.8/site-packages (from python-dateutil>=2.7.3->pandas->covid19dh) (1.15.0)\n",
      "Note: you may need to restart the kernel to use updated packages.\n"
     ]
    }
   ],
   "source": [
    "pip install --upgrade covid19dh"
   ]
  },
  {
   "cell_type": "markdown",
   "metadata": {
    "colab_type": "text",
    "id": "NYWBjZGA2gY0"
   },
   "source": [
    "### Restart the kernel to import the module and access the data"
   ]
  },
  {
   "cell_type": "code",
   "execution_count": 1469,
   "metadata": {
    "colab": {},
    "colab_type": "code",
    "id": "wDXh1Odt2gY1"
   },
   "outputs": [],
   "source": [
    "from covid19dh import covid19"
   ]
  },
  {
   "cell_type": "markdown",
   "metadata": {
    "colab_type": "text",
    "id": "8EV1PilWtl0Z"
   },
   "source": [
    "## Answer the questions below. \n",
    "For each question, you should\n",
    "1. Write code that can help you answer the following questions, and\n",
    "2. Explain your answers in plain English. You should use complete sentences that would be understood by an educated professional who is not necessarily a data scientist (like a product manager)."
   ]
  },
  {
   "cell_type": "code",
   "execution_count": 1470,
   "metadata": {
    "colab": {
     "base_uri": "https://localhost:8080/",
     "height": 70
    },
    "colab_type": "code",
    "id": "vjY0Nbka2gY4",
    "outputId": "d208de70-5f05-4b13-8ed2-cce106469c84"
   },
   "outputs": [],
   "source": [
    "# Load all the modules\n",
    "import pandas as pd\n",
    "import numpy as np\n",
    "import matplotlib.pyplot as plt\n",
    "import seaborn as sns\n",
    "import warnings"
   ]
  },
  {
   "cell_type": "markdown",
   "metadata": {
    "colab_type": "text",
    "id": "PfjXDtHoabcS"
   },
   "source": [
    "### <font color='#8B0000'> Q1 How many different countries are represented in the country-level data set?</font>\n",
    "- Refer to the documentation to call the covid19() function with appropriate parameters (https://covid19datahub.io/articles/api/python.html)"
   ]
  },
  {
   "cell_type": "code",
   "execution_count": 1471,
   "metadata": {
    "colab": {},
    "colab_type": "code",
    "id": "ttHwVC8ot5Ur"
   },
   "outputs": [
    {
     "name": "stdout",
     "output_type": "stream",
     "text": [
      "199 countries are represented in the COVID 19 dataset\n"
     ]
    }
   ],
   "source": [
    "x, src = covid19(level=1, verbose=False, raw=False)\n",
    "Total_countries_in_dataset = x.iso_alpha_3.nunique()\n",
    "print(f\"{Total_countries_in_dataset} countries are represented in the COVID 19 dataset\")"
   ]
  },
  {
   "cell_type": "code",
   "execution_count": 1472,
   "metadata": {},
   "outputs": [
    {
     "name": "stdout",
     "output_type": "stream",
     "text": [
      "There are 246 countries in the world\n"
     ]
    }
   ],
   "source": [
    "iso_codes = pd.read_csv(\"/Users/arjunanandapadmanabhan/Downloads/ISO/isocodes.csv\")\n",
    "Total_countries = iso_codes['Alpha-3 code'].nunique()\n",
    "\n",
    "print(f\"There are {Total_countries} countries in the world\")\n"
   ]
  },
  {
   "cell_type": "code",
   "execution_count": 1473,
   "metadata": {},
   "outputs": [
    {
     "name": "stdout",
     "output_type": "stream",
     "text": [
      "80.89 % of the countries in the world are represented in the dataset\n"
     ]
    }
   ],
   "source": [
    "Total_representation = round((Total_countries_in_dataset/Total_countries)*100,2)\n",
    "print(f\"{Total_representation} % of the countries in the world are represented in the dataset\")"
   ]
  },
  {
   "cell_type": "markdown",
   "metadata": {
    "colab_type": "text",
    "id": "g1RAXO76uN-A"
   },
   "source": [
    "* The total number of countries represented in the dataset is 199. \n",
    "* The total representation of the countries around the world in the dataset is around 80.89%. \n",
    "* I have used the ISO codes to calculate the total number of countries in the world, i.e; 246. This is different from the U.N list as U.N has only 195 member countries and two non-member observer state (State of palestine and Vatican). U.N does not recognize many countries such as Taiwan (which is included in the dataset). \n"
   ]
  },
  {
   "cell_type": "markdown",
   "metadata": {
    "colab_type": "text",
    "id": "tbmL9-kta0o4"
   },
   "source": [
    "### <font color='#8B0000'> Q2 Create a line chart that shows the total number of cases over time.</font>"
   ]
  },
  {
   "cell_type": "code",
   "execution_count": 1474,
   "metadata": {
    "colab": {},
    "colab_type": "code",
    "id": "33LcHThyt5_N"
   },
   "outputs": [],
   "source": [
    "import datetime as dt\n",
    "x, src = covid19(level=1, verbose=False, raw=True)\n",
    "Total_cases = x[['date','confirmed']]\n",
    "Total_cases.date = Total_cases.date.astype(str)\n",
    "Total_cases  = Total_cases.dropna()\n",
    "Total_confirmed = pd.DataFrame(Total_cases.groupby('date').mean('confirmed')).reset_index()\n",
    "warnings.filterwarnings('ignore')"
   ]
  },
  {
   "cell_type": "code",
   "execution_count": 1475,
   "metadata": {},
   "outputs": [
    {
     "data": {
      "text/plain": [
       "Text(0.5, 1.0, 'Total number of cases over time')"
      ]
     },
     "execution_count": 1475,
     "metadata": {},
     "output_type": "execute_result"
    },
    {
     "data": {
      "image/png": "[encoded data removed]",
      "text/plain": [
       "<Figure size 432x288 with 1 Axes>"
      ]
     },
     "metadata": {
      "needs_background": "light"
     },
     "output_type": "display_data"
    }
   ],
   "source": [
    "import matplotlib.dates as mdates\n",
    "\n",
    "fig, ax = plt.subplots()\n",
    "ax.plot(Total_confirmed['date'], Total_confirmed['confirmed'], color='r')\n",
    "fig.autofmt_xdate()\n",
    "ax.fmt_xdata = mdates.DateFormatter('%Y-%m-%d')\n",
    "plt.annotate('Peak of COVID19 cases (01/2022, 1.75 M)', xy=('2022-06-01', 1800000), xytext=('2020-01-31', 1750000),\\\n",
    "             arrowprops=dict(facecolor='black', shrink=0.01),)\n",
    "plt.annotate('Dip in cases before the third wave (12/2021, 1.45 M)', xy=('2021-12-31', 1450000), \\\n",
    "             xytext=('2020-01-31', 1450000), \\\n",
    "             arrowprops=dict(facecolor='black', shrink=0.01),)\n",
    "ax.xaxis.set_major_locator(mdates.MonthLocator(bymonth=(1, 8)))\n",
    "ax.xaxis.set_minor_locator(mdates.MonthLocator())\n",
    "plt.xlabel('Month and year')\n",
    "plt.ylabel('Total number of confirmed cases (in millions)')\n",
    "plt.title('Total number of cases over time')"
   ]
  },
  {
   "cell_type": "markdown",
   "metadata": {
    "colab_type": "text",
    "id": "FD6-7-D-uWmX"
   },
   "source": [
    "* There is a gradual increase in COVID-19 cases from January 2020. \n",
    "* The current peak of cases is seen in January 2022. This peak is not real as more data is uploaded and we do not have sufficient data to prove that the cases are declining since January 2022. \n",
    "* However, when we look at the line plot, we can see a mild dip in cases in December 2021 before the third wave. "
   ]
  },
  {
   "cell_type": "markdown",
   "metadata": {
    "colab_type": "text",
    "id": "0u5VM5ksbCTm"
   },
   "source": [
    "### <font color='#8B0000'>Q3 Use the country-level data set to create a histogram to:</font>\n",
    "- Show the distribution of values for the number of hospitalizations per 1000 people.  \n",
    "- Draw a red vertical line that shows the median value on the histogram."
   ]
  },
  {
   "cell_type": "code",
   "execution_count": 1476,
   "metadata": {
    "colab": {},
    "colab_type": "code",
    "id": "JtI8ru2at6ZU"
   },
   "outputs": [],
   "source": [
    "Total_hospitalization = x[['hosp', 'iso_alpha_3']]\n",
    "Total_hospitalization = Total_hospitalization.dropna()\n",
    "Total_hospitalization_modified = Total_hospitalization.groupby('iso_alpha_3').sum('hosp').reset_index()\n",
    "Total_hospitalization_modified = Total_hospitalization_modified.merge(x[['population','iso_alpha_3']], how='left')"
   ]
  },
  {
   "cell_type": "code",
   "execution_count": 1477,
   "metadata": {},
   "outputs": [
    {
     "data": {
      "text/html": [
       "<div>\n",
       "<style scoped>\n",
       "    .dataframe tbody tr th:only-of-type {\n",
       "        vertical-align: middle;\n",
       "    }\n",
       "\n",
       "    .dataframe tbody tr th {\n",
       "        vertical-align: top;\n",
       "    }\n",
       "\n",
       "    .dataframe thead th {\n",
       "        text-align: right;\n",
       "    }\n",
       "</style>\n",
       "<table border=\"1\" class=\"dataframe\">\n",
       "  <thead>\n",
       "    <tr style=\"text-align: right;\">\n",
       "      <th></th>\n",
       "      <th>iso_alpha_3</th>\n",
       "      <th>hosp</th>\n",
       "      <th>population</th>\n",
       "      <th>hospitalization</th>\n",
       "    </tr>\n",
       "  </thead>\n",
       "  <tbody>\n",
       "    <tr>\n",
       "      <th>2201</th>\n",
       "      <td>BGR</td>\n",
       "      <td>2366826.0</td>\n",
       "      <td>7025037.0</td>\n",
       "      <td>336.912959</td>\n",
       "    </tr>\n",
       "    <tr>\n",
       "      <th>28344</th>\n",
       "      <td>SRB</td>\n",
       "      <td>2207406.0</td>\n",
       "      <td>6982604.0</td>\n",
       "      <td>316.129341</td>\n",
       "    </tr>\n",
       "    <tr>\n",
       "      <th>13911</th>\n",
       "      <td>HUN</td>\n",
       "      <td>1958145.0</td>\n",
       "      <td>9775564.0</td>\n",
       "      <td>200.310182</td>\n",
       "    </tr>\n",
       "    <tr>\n",
       "      <th>17587</th>\n",
       "      <td>JPN</td>\n",
       "      <td>24775374.0</td>\n",
       "      <td>126529100.0</td>\n",
       "      <td>195.807715</td>\n",
       "    </tr>\n",
       "    <tr>\n",
       "      <th>18330</th>\n",
       "      <td>LTU</td>\n",
       "      <td>545798.0</td>\n",
       "      <td>2801543.0</td>\n",
       "      <td>194.820497</td>\n",
       "    </tr>\n",
       "    <tr>\n",
       "      <th>11818</th>\n",
       "      <td>GLP</td>\n",
       "      <td>76418.0</td>\n",
       "      <td>395700.0</td>\n",
       "      <td>193.121051</td>\n",
       "    </tr>\n",
       "    <tr>\n",
       "      <th>21259</th>\n",
       "      <td>MTQ</td>\n",
       "      <td>67907.0</td>\n",
       "      <td>376480.0</td>\n",
       "      <td>180.373459</td>\n",
       "    </tr>\n",
       "    <tr>\n",
       "      <th>10316</th>\n",
       "      <td>FRA</td>\n",
       "      <td>11537218.0</td>\n",
       "      <td>66977107.0</td>\n",
       "      <td>172.256141</td>\n",
       "    </tr>\n",
       "    <tr>\n",
       "      <th>25466</th>\n",
       "      <td>POL</td>\n",
       "      <td>6343354.0</td>\n",
       "      <td>37974750.0</td>\n",
       "      <td>167.041363</td>\n",
       "    </tr>\n",
       "    <tr>\n",
       "      <th>6631</th>\n",
       "      <td>CZE</td>\n",
       "      <td>1764591.0</td>\n",
       "      <td>10629928.0</td>\n",
       "      <td>166.002159</td>\n",
       "    </tr>\n",
       "    <tr>\n",
       "      <th>24789</th>\n",
       "      <td>PER</td>\n",
       "      <td>5218707.0</td>\n",
       "      <td>31989256.0</td>\n",
       "      <td>163.139368</td>\n",
       "    </tr>\n",
       "    <tr>\n",
       "      <th>13198</th>\n",
       "      <td>HRV</td>\n",
       "      <td>662744.0</td>\n",
       "      <td>4087843.0</td>\n",
       "      <td>162.125600</td>\n",
       "    </tr>\n",
       "    <tr>\n",
       "      <th>16874</th>\n",
       "      <td>ITA</td>\n",
       "      <td>9241097.0</td>\n",
       "      <td>60421760.0</td>\n",
       "      <td>152.943195</td>\n",
       "    </tr>\n",
       "    <tr>\n",
       "      <th>12508</th>\n",
       "      <td>GUF</td>\n",
       "      <td>43887.0</td>\n",
       "      <td>290691.0</td>\n",
       "      <td>150.974746</td>\n",
       "    </tr>\n",
       "    <tr>\n",
       "      <th>29811</th>\n",
       "      <td>SVN</td>\n",
       "      <td>302288.0</td>\n",
       "      <td>2073894.0</td>\n",
       "      <td>145.758655</td>\n",
       "    </tr>\n",
       "    <tr>\n",
       "      <th>5180</th>\n",
       "      <td>CHL</td>\n",
       "      <td>2715258.0</td>\n",
       "      <td>18729160.0</td>\n",
       "      <td>144.974895</td>\n",
       "    </tr>\n",
       "    <tr>\n",
       "      <th>29090</th>\n",
       "      <td>SVK</td>\n",
       "      <td>736952.0</td>\n",
       "      <td>5446771.0</td>\n",
       "      <td>135.300713</td>\n",
       "    </tr>\n",
       "    <tr>\n",
       "      <th>19764</th>\n",
       "      <td>LVA</td>\n",
       "      <td>257680.0</td>\n",
       "      <td>1927174.0</td>\n",
       "      <td>133.708736</td>\n",
       "    </tr>\n",
       "    <tr>\n",
       "      <th>1456</th>\n",
       "      <td>BEL</td>\n",
       "      <td>1322426.0</td>\n",
       "      <td>11433256.0</td>\n",
       "      <td>115.664864</td>\n",
       "    </tr>\n",
       "    <tr>\n",
       "      <th>8864</th>\n",
       "      <td>EST</td>\n",
       "      <td>136890.0</td>\n",
       "      <td>1321977.0</td>\n",
       "      <td>103.549457</td>\n",
       "    </tr>\n",
       "    <tr>\n",
       "      <th>31292</th>\n",
       "      <td>USA</td>\n",
       "      <td>33791953.0</td>\n",
       "      <td>326687501.0</td>\n",
       "      <td>103.438157</td>\n",
       "    </tr>\n",
       "    <tr>\n",
       "      <th>11062</th>\n",
       "      <td>GBR</td>\n",
       "      <td>6465576.0</td>\n",
       "      <td>66460344.0</td>\n",
       "      <td>97.284721</td>\n",
       "    </tr>\n",
       "    <tr>\n",
       "      <th>8118</th>\n",
       "      <td>ESP</td>\n",
       "      <td>4379067.0</td>\n",
       "      <td>46796540.0</td>\n",
       "      <td>93.576726</td>\n",
       "    </tr>\n",
       "    <tr>\n",
       "      <th>26212</th>\n",
       "      <td>PRT</td>\n",
       "      <td>857554.0</td>\n",
       "      <td>10283822.0</td>\n",
       "      <td>83.388647</td>\n",
       "    </tr>\n",
       "    <tr>\n",
       "      <th>19018</th>\n",
       "      <td>LUX</td>\n",
       "      <td>49287.0</td>\n",
       "      <td>607950.0</td>\n",
       "      <td>81.070812</td>\n",
       "    </tr>\n",
       "    <tr>\n",
       "      <th>26923</th>\n",
       "      <td>REU</td>\n",
       "      <td>69275.0</td>\n",
       "      <td>859959.0</td>\n",
       "      <td>80.556166</td>\n",
       "    </tr>\n",
       "    <tr>\n",
       "      <th>21949</th>\n",
       "      <td>MYS</td>\n",
       "      <td>2531926.0</td>\n",
       "      <td>31528585.0</td>\n",
       "      <td>80.305729</td>\n",
       "    </tr>\n",
       "    <tr>\n",
       "      <th>4435</th>\n",
       "      <td>CHE</td>\n",
       "      <td>611560.0</td>\n",
       "      <td>8513227.0</td>\n",
       "      <td>71.836449</td>\n",
       "    </tr>\n",
       "    <tr>\n",
       "      <th>30557</th>\n",
       "      <td>SWE</td>\n",
       "      <td>708579.0</td>\n",
       "      <td>10175214.0</td>\n",
       "      <td>69.637749</td>\n",
       "    </tr>\n",
       "    <tr>\n",
       "      <th>22695</th>\n",
       "      <td>MYT</td>\n",
       "      <td>16121.0</td>\n",
       "      <td>256518.0</td>\n",
       "      <td>62.845492</td>\n",
       "    </tr>\n",
       "    <tr>\n",
       "      <th>16139</th>\n",
       "      <td>ISR</td>\n",
       "      <td>529738.0</td>\n",
       "      <td>8882800.0</td>\n",
       "      <td>59.636376</td>\n",
       "    </tr>\n",
       "    <tr>\n",
       "      <th>5885</th>\n",
       "      <td>CYP</td>\n",
       "      <td>69291.0</td>\n",
       "      <td>1189265.0</td>\n",
       "      <td>58.263718</td>\n",
       "    </tr>\n",
       "    <tr>\n",
       "      <th>14657</th>\n",
       "      <td>IRL</td>\n",
       "      <td>262802.0</td>\n",
       "      <td>4867309.0</td>\n",
       "      <td>53.993285</td>\n",
       "    </tr>\n",
       "    <tr>\n",
       "      <th>20513</th>\n",
       "      <td>MLT</td>\n",
       "      <td>21644.0</td>\n",
       "      <td>484630.0</td>\n",
       "      <td>44.660875</td>\n",
       "    </tr>\n",
       "    <tr>\n",
       "      <th>27613</th>\n",
       "      <td>SGP</td>\n",
       "      <td>242732.0</td>\n",
       "      <td>5638676.0</td>\n",
       "      <td>43.047694</td>\n",
       "    </tr>\n",
       "    <tr>\n",
       "      <th>3693</th>\n",
       "      <td>CAN</td>\n",
       "      <td>1527805.0</td>\n",
       "      <td>37057765.0</td>\n",
       "      <td>41.227662</td>\n",
       "    </tr>\n",
       "    <tr>\n",
       "      <th>744</th>\n",
       "      <td>AUT</td>\n",
       "      <td>358373.0</td>\n",
       "      <td>8840521.0</td>\n",
       "      <td>40.537543</td>\n",
       "    </tr>\n",
       "    <tr>\n",
       "      <th>23385</th>\n",
       "      <td>NLD</td>\n",
       "      <td>645778.0</td>\n",
       "      <td>17231624.0</td>\n",
       "      <td>37.476328</td>\n",
       "    </tr>\n",
       "    <tr>\n",
       "      <th>7372</th>\n",
       "      <td>DNK</td>\n",
       "      <td>168915.0</td>\n",
       "      <td>5793636.0</td>\n",
       "      <td>29.155266</td>\n",
       "    </tr>\n",
       "    <tr>\n",
       "      <th>2947</th>\n",
       "      <td>BOL</td>\n",
       "      <td>305337.0</td>\n",
       "      <td>11353142.0</td>\n",
       "      <td>26.894493</td>\n",
       "    </tr>\n",
       "    <tr>\n",
       "      <th>15404</th>\n",
       "      <td>ISL</td>\n",
       "      <td>6909.0</td>\n",
       "      <td>352721.0</td>\n",
       "      <td>19.587719</td>\n",
       "    </tr>\n",
       "    <tr>\n",
       "      <th>9588</th>\n",
       "      <td>FIN</td>\n",
       "      <td>77712.0</td>\n",
       "      <td>5515525.0</td>\n",
       "      <td>14.089683</td>\n",
       "    </tr>\n",
       "    <tr>\n",
       "      <th>0</th>\n",
       "      <td>AUS</td>\n",
       "      <td>351028.0</td>\n",
       "      <td>24982688.0</td>\n",
       "      <td>14.050850</td>\n",
       "    </tr>\n",
       "    <tr>\n",
       "      <th>24043</th>\n",
       "      <td>NOR</td>\n",
       "      <td>72503.0</td>\n",
       "      <td>5311916.0</td>\n",
       "      <td>13.649124</td>\n",
       "    </tr>\n",
       "  </tbody>\n",
       "</table>\n",
       "</div>"
      ],
      "text/plain": [
       "      iso_alpha_3        hosp   population  hospitalization\n",
       "2201          BGR   2366826.0    7025037.0       336.912959\n",
       "28344         SRB   2207406.0    6982604.0       316.129341\n",
       "13911         HUN   1958145.0    9775564.0       200.310182\n",
       "17587         JPN  24775374.0  126529100.0       195.807715\n",
       "18330         LTU    545798.0    2801543.0       194.820497\n",
       "11818         GLP     76418.0     395700.0       193.121051\n",
       "21259         MTQ     67907.0     376480.0       180.373459\n",
       "10316         FRA  11537218.0   66977107.0       172.256141\n",
       "25466         POL   6343354.0   37974750.0       167.041363\n",
       "6631          CZE   1764591.0   10629928.0       166.002159\n",
       "24789         PER   5218707.0   31989256.0       163.139368\n",
       "13198         HRV    662744.0    4087843.0       162.125600\n",
       "16874         ITA   9241097.0   60421760.0       152.943195\n",
       "12508         GUF     43887.0     290691.0       150.974746\n",
       "29811         SVN    302288.0    2073894.0       145.758655\n",
       "5180          CHL   2715258.0   18729160.0       144.974895\n",
       "29090         SVK    736952.0    5446771.0       135.300713\n",
       "19764         LVA    257680.0    1927174.0       133.708736\n",
       "1456          BEL   1322426.0   11433256.0       115.664864\n",
       "8864          EST    136890.0    1321977.0       103.549457\n",
       "31292         USA  33791953.0  326687501.0       103.438157\n",
       "11062         GBR   6465576.0   66460344.0        97.284721\n",
       "8118          ESP   4379067.0   46796540.0        93.576726\n",
       "26212         PRT    857554.0   10283822.0        83.388647\n",
       "19018         LUX     49287.0     607950.0        81.070812\n",
       "26923         REU     69275.0     859959.0        80.556166\n",
       "21949         MYS   2531926.0   31528585.0        80.305729\n",
       "4435          CHE    611560.0    8513227.0        71.836449\n",
       "30557         SWE    708579.0   10175214.0        69.637749\n",
       "22695         MYT     16121.0     256518.0        62.845492\n",
       "16139         ISR    529738.0    8882800.0        59.636376\n",
       "5885          CYP     69291.0    1189265.0        58.263718\n",
       "14657         IRL    262802.0    4867309.0        53.993285\n",
       "20513         MLT     21644.0     484630.0        44.660875\n",
       "27613         SGP    242732.0    5638676.0        43.047694\n",
       "3693          CAN   1527805.0   37057765.0        41.227662\n",
       "744           AUT    358373.0    8840521.0        40.537543\n",
       "23385         NLD    645778.0   17231624.0        37.476328\n",
       "7372          DNK    168915.0    5793636.0        29.155266\n",
       "2947          BOL    305337.0   11353142.0        26.894493\n",
       "15404         ISL      6909.0     352721.0        19.587719\n",
       "9588          FIN     77712.0    5515525.0        14.089683\n",
       "0             AUS    351028.0   24982688.0        14.050850\n",
       "24043         NOR     72503.0    5311916.0        13.649124"
      ]
     },
     "execution_count": 1477,
     "metadata": {},
     "output_type": "execute_result"
    }
   ],
   "source": [
    "Total_hospitalization_modified['hospitalization'] = (Total_hospitalization_modified['hosp'].\\\n",
    "                                                    div(Total_hospitalization_modified['population']))*1000\n",
    "\n",
    "Total_hospitalization_modified = Total_hospitalization_modified.drop_duplicates(subset=['iso_alpha_3'])\n",
    "Total_hospitalization_modified.sort_values('hospitalization', ascending=False)"
   ]
  },
  {
   "cell_type": "code",
   "execution_count": 1478,
   "metadata": {},
   "outputs": [
    {
     "name": "stdout",
     "output_type": "stream",
     "text": [
      "               hosp    population  hospitalization\n",
      "count  4.400000e+01  4.400000e+01        44.000000\n",
      "mean   2.872783e+06  2.379231e+07       110.252872\n",
      "std    6.432366e+06  5.280402e+07        75.012737\n",
      "min    6.909000e+03  2.565180e+05        13.649124\n",
      "25%    1.220955e+05  2.037214e+06        51.660182\n",
      "50%    5.786790e+05  7.769132e+06        95.430723\n",
      "75%    2.247261e+06  2.029254e+07       162.379042\n",
      "max    3.379195e+07  3.266875e+08       336.912959\n",
      "44\n"
     ]
    }
   ],
   "source": [
    "print(Total_hospitalization_modified.describe())\n",
    "print(len(Total_hospitalization_modified))"
   ]
  },
  {
   "cell_type": "code",
   "execution_count": 1479,
   "metadata": {},
   "outputs": [
    {
     "data": {
      "text/plain": [
       "Text(0.5, 1.0, 'Number of hospitalizations per 1000 people')"
      ]
     },
     "execution_count": 1479,
     "metadata": {},
     "output_type": "execute_result"
    },
    {
     "data": {
      "image/png": "[encoded data removed]",
      "text/plain": [
       "<Figure size 360x360 with 1 Axes>"
      ]
     },
     "metadata": {
      "needs_background": "light"
     },
     "output_type": "display_data"
    }
   ],
   "source": [
    "sns.displot(x=Total_hospitalization_modified['hospitalization'], data= Total_hospitalization_modified, bins=20)\n",
    "plt.axvline(x=Total_hospitalization_modified['hospitalization'].median(), color='r', linestyle='dashed', linewidth=1)\n",
    "plt.xlabel('Total number of hospitalization per 1000')\n",
    "plt.ylabel('Total number of countries')\n",
    "plt.title('Number of hospitalizations per 1000 people')"
   ]
  },
  {
   "cell_type": "markdown",
   "metadata": {
    "colab_type": "text",
    "id": "CCuxztg3uYPQ"
   },
   "source": [
    "* Out of the 199 countries, only 44 countries have reported their hospitalization numbers. \n",
    "* The median value for hospitalization per 1000 people (for the 44 countries) is 95.43.\n",
    "* The average value for hospitalization per 1000 people (for the 44 countries) is 110.25.\n",
    "* There are only two countries with hospitalization per 1000 people more than 300 (Bulgaria and Serbia)."
   ]
  },
  {
   "cell_type": "markdown",
   "metadata": {
    "colab_type": "text",
    "id": "2wH5ikUcbb16"
   },
   "source": [
    "### <font color='#8B0000'> Q4 Create a visualization that shows the  number of tests per day in the United States and indicate the median value on your visualization.</font>"
   ]
  },
  {
   "cell_type": "code",
   "execution_count": 1480,
   "metadata": {
    "colab": {},
    "colab_type": "code",
    "id": "EFwU7diL2gZI"
   },
   "outputs": [
    {
     "name": "stdout",
     "output_type": "stream",
     "text": [
      "We have invested a lot of time and effort in creating COVID-19 Data Hub, please cite the following when using it:\n",
      "\n",
      "\t\u001b[1mGuidotti, E., Ardia, D., (2020), \"COVID-19 Data Hub\", Journal of Open Source Software 5(51):2376, doi: 10.21105/joss.02376.\u001b[0m\n",
      "\n",
      "A BibTeX entry for LaTeX users is\n",
      "\n",
      "\t@Article{,\n",
      "\t\ttitle = {COVID-19 Data Hub},\n",
      "\t\tyear = {2020},\n",
      "\t\tdoi = {10.21105/joss.02376},\n",
      "\t\tauthor = {Emanuele Guidotti and David Ardia},\n",
      "\t\tjournal = {Journal of Open Source Software},\n",
      "\t\tvolume = {5},\n",
      "\t\tnumber = {51},\n",
      "\t\tpages = {2376},\n",
      "\t}\n",
      "\n",
      "\u001b[33mTo hide this message use 'verbose = False'.\u001b[0m\n"
     ]
    },
    {
     "data": {
      "text/html": [
       "<div>\n",
       "<style scoped>\n",
       "    .dataframe tbody tr th:only-of-type {\n",
       "        vertical-align: middle;\n",
       "    }\n",
       "\n",
       "    .dataframe tbody tr th {\n",
       "        vertical-align: top;\n",
       "    }\n",
       "\n",
       "    .dataframe thead th {\n",
       "        text-align: right;\n",
       "    }\n",
       "</style>\n",
       "<table border=\"1\" class=\"dataframe\">\n",
       "  <thead>\n",
       "    <tr style=\"text-align: right;\">\n",
       "      <th></th>\n",
       "      <th>tests</th>\n",
       "      <th>date</th>\n",
       "      <th>testsperday</th>\n",
       "    </tr>\n",
       "  </thead>\n",
       "  <tbody>\n",
       "    <tr>\n",
       "      <th>70227</th>\n",
       "      <td>348.0</td>\n",
       "      <td>2020-03-01</td>\n",
       "      <td>NaN</td>\n",
       "    </tr>\n",
       "    <tr>\n",
       "      <th>70228</th>\n",
       "      <td>862.0</td>\n",
       "      <td>2020-03-02</td>\n",
       "      <td>514.0</td>\n",
       "    </tr>\n",
       "    <tr>\n",
       "      <th>70229</th>\n",
       "      <td>1484.0</td>\n",
       "      <td>2020-03-03</td>\n",
       "      <td>622.0</td>\n",
       "    </tr>\n",
       "    <tr>\n",
       "      <th>70230</th>\n",
       "      <td>2371.0</td>\n",
       "      <td>2020-03-04</td>\n",
       "      <td>887.0</td>\n",
       "    </tr>\n",
       "    <tr>\n",
       "      <th>70231</th>\n",
       "      <td>3572.0</td>\n",
       "      <td>2020-03-05</td>\n",
       "      <td>1201.0</td>\n",
       "    </tr>\n",
       "    <tr>\n",
       "      <th>...</th>\n",
       "      <td>...</td>\n",
       "      <td>...</td>\n",
       "      <td>...</td>\n",
       "    </tr>\n",
       "    <tr>\n",
       "      <th>70922</th>\n",
       "      <td>777738298.0</td>\n",
       "      <td>2022-01-25</td>\n",
       "      <td>1755768.0</td>\n",
       "    </tr>\n",
       "    <tr>\n",
       "      <th>70923</th>\n",
       "      <td>779609487.0</td>\n",
       "      <td>2022-01-26</td>\n",
       "      <td>1871189.0</td>\n",
       "    </tr>\n",
       "    <tr>\n",
       "      <th>70924</th>\n",
       "      <td>781424215.0</td>\n",
       "      <td>2022-01-27</td>\n",
       "      <td>1814728.0</td>\n",
       "    </tr>\n",
       "    <tr>\n",
       "      <th>70925</th>\n",
       "      <td>782995073.0</td>\n",
       "      <td>2022-01-28</td>\n",
       "      <td>1570858.0</td>\n",
       "    </tr>\n",
       "    <tr>\n",
       "      <th>70926</th>\n",
       "      <td>783967326.0</td>\n",
       "      <td>2022-01-29</td>\n",
       "      <td>972253.0</td>\n",
       "    </tr>\n",
       "  </tbody>\n",
       "</table>\n",
       "<p>700 rows × 3 columns</p>\n",
       "</div>"
      ],
      "text/plain": [
       "             tests       date  testsperday\n",
       "70227        348.0 2020-03-01          NaN\n",
       "70228        862.0 2020-03-02        514.0\n",
       "70229       1484.0 2020-03-03        622.0\n",
       "70230       2371.0 2020-03-04        887.0\n",
       "70231       3572.0 2020-03-05       1201.0\n",
       "...            ...        ...          ...\n",
       "70922  777738298.0 2022-01-25    1755768.0\n",
       "70923  779609487.0 2022-01-26    1871189.0\n",
       "70924  781424215.0 2022-01-27    1814728.0\n",
       "70925  782995073.0 2022-01-28    1570858.0\n",
       "70926  783967326.0 2022-01-29     972253.0\n",
       "\n",
       "[700 rows x 3 columns]"
      ]
     },
     "execution_count": 1480,
     "metadata": {},
     "output_type": "execute_result"
    }
   ],
   "source": [
    "y,scr = covid19(\"USA\", level = 1, raw=True)\n",
    "Total_test = y[['tests', 'date']]\n",
    "a = y[['tests']]\n",
    "a = a.dropna()\n",
    "Total_test= Total_test.dropna()\n",
    "Total_test['testsperday'] = a.diff(axis=0)\n",
    "Total_test"
   ]
  },
  {
   "cell_type": "code",
   "execution_count": 1481,
   "metadata": {},
   "outputs": [
    {
     "data": {
      "text/plain": [
       "1038373.0"
      ]
     },
     "execution_count": 1481,
     "metadata": {},
     "output_type": "execute_result"
    }
   ],
   "source": [
    "Total_test['testsperday'].sort_values(ascending=False)\n",
    "Total_test['testsperday'].median()"
   ]
  },
  {
   "cell_type": "code",
   "execution_count": 1482,
   "metadata": {},
   "outputs": [
    {
     "data": {
      "text/plain": [
       "count    6.990000e+02\n",
       "mean     1.121555e+06\n",
       "std      6.126196e+05\n",
       "min      5.140000e+02\n",
       "25%      6.688910e+05\n",
       "50%      1.038373e+06\n",
       "75%      1.557277e+06\n",
       "max      3.083703e+06\n",
       "Name: testsperday, dtype: float64"
      ]
     },
     "execution_count": 1482,
     "metadata": {},
     "output_type": "execute_result"
    }
   ],
   "source": [
    "Total_test['testsperday'].describe()"
   ]
  },
  {
   "cell_type": "code",
   "execution_count": 1483,
   "metadata": {},
   "outputs": [
    {
     "data": {
      "image/png": "[encoded data removed]",
      "text/plain": [
       "<Figure size 432x288 with 1 Axes>"
      ]
     },
     "metadata": {
      "needs_background": "light"
     },
     "output_type": "display_data"
    }
   ],
   "source": [
    "Total_test.date = Total_test.date.astype(str)\n",
    "f, ax = plt.subplots()\n",
    "ax.plot(Total_test[\"date\"], Total_test[\"testsperday\"], \"r\")\n",
    "fig.autofmt_xdate()\n",
    "ax.fmt_xdata = mdates.DateFormatter('%Y-%m-%d')\n",
    "plt.title(\"Confirmed cases of Covid-19 over time\", size=12)\n",
    "y_median = [(Total_test[\"testsperday\"].median())]*len(Total_test[\"testsperday\"])\n",
    "plt.annotate('Median Value (1.03 M)', xy=('2021-06-29', 1038373.0), xytext=('2020-06-29', 238373.0), \\\n",
    "             arrowprops=dict(facecolor='black', shrink=0.01))\n",
    "plt.annotate('Highest per day testing (3.08 M)', xy=('2022-01-10', 3083730.0), xytext=('2020-06-29', 3083730.0), \\\n",
    "             arrowprops=dict(facecolor='black', shrink=0.01))\n",
    "ax.xaxis.set_major_locator(mdates.MonthLocator(bymonth=(1, 5,12)))\n",
    "ax.xaxis.set_minor_locator(mdates.MonthLocator())\n",
    "plt.xticks(rotation = 90)\n",
    "ax.plot(Total_test[\"date\"], y_median, \"b--\", )\n",
    "plt.xlabel('Month and Year')\n",
    "plt.ylabel('Number of tests/day (in millions)')\n",
    "plt.show()"
   ]
  },
  {
   "cell_type": "markdown",
   "metadata": {
    "colab_type": "text",
    "id": "WlWYu2_5uY7K"
   },
   "source": [
    "* The total number of tests per day done in the USA have consistently increased over the years ( since the begining of the pandemic) with a slight dip around July 2021. Currently, the median value of the tests done in USA is 1038373.0  "
   ]
  },
  {
   "cell_type": "markdown",
   "metadata": {
    "colab_type": "text",
    "id": "CVnHVSV12gZL"
   },
   "source": [
    "## For questions below:\n",
    "- You will have to call the covid19() function again **with parameters specific to Canada**. \n",
    "- Set the parameter <code>level = 2</code> in the call to covid19()."
   ]
  },
  {
   "cell_type": "code",
   "execution_count": 1484,
   "metadata": {},
   "outputs": [
    {
     "name": "stdout",
     "output_type": "stream",
     "text": [
      "We have invested a lot of time and effort in creating COVID-19 Data Hub, please cite the following when using it:\n",
      "\n",
      "\t\u001b[1mGuidotti, E., Ardia, D., (2020), \"COVID-19 Data Hub\", Journal of Open Source Software 5(51):2376, doi: 10.21105/joss.02376.\u001b[0m\n",
      "\n",
      "A BibTeX entry for LaTeX users is\n",
      "\n",
      "\t@Article{,\n",
      "\t\ttitle = {COVID-19 Data Hub},\n",
      "\t\tyear = {2020},\n",
      "\t\tdoi = {10.21105/joss.02376},\n",
      "\t\tauthor = {Emanuele Guidotti and David Ardia},\n",
      "\t\tjournal = {Journal of Open Source Software},\n",
      "\t\tvolume = {5},\n",
      "\t\tnumber = {51},\n",
      "\t\tpages = {2376},\n",
      "\t}\n",
      "\n",
      "\u001b[33mTo hide this message use 'verbose = False'.\u001b[0m\n"
     ]
    }
   ],
   "source": [
    "canada,src = covid19(\"CAN\",level = 2)\n"
   ]
  },
  {
   "cell_type": "markdown",
   "metadata": {
    "colab_type": "text",
    "id": "ggXQN25h2gZM"
   },
   "source": [
    "### <font color='#8B0000'> Q5 Create a bar plot to show the number of tests conducted in each province.  </font>\n",
    "Order the provinces from west to east (use your best judgement for cases where the order is unclear).  Which Canadian province that has conducted the most tests?"
   ]
  },
  {
   "cell_type": "code",
   "execution_count": 1485,
   "metadata": {
    "colab": {},
    "colab_type": "code",
    "id": "AtRQgtZL2gZM"
   },
   "outputs": [
    {
     "data": {
      "text/plain": [
       "Text(0, 0.5, 'Test conducted (in millions)')"
      ]
     },
     "execution_count": 1485,
     "metadata": {},
     "output_type": "execute_result"
    },
    {
     "data": {
      "image/png": "[encoded data removed]",
      "text/plain": [
       "<Figure size 432x288 with 1 Axes>"
      ]
     },
     "metadata": {
      "needs_background": "light"
     },
     "output_type": "display_data"
    }
   ],
   "source": [
    "a = canada[['administrative_area_level_2', 'tests']]\n",
    "a= a.dropna()\n",
    "b = a.groupby(['administrative_area_level_2']).max('tests').reset_index()\n",
    "ax = sns.barplot(x=\"administrative_area_level_2\", y=\"tests\",\\\n",
    "                 order=[\"British Columbia\", \"Alberta\", \"Saskatchewan\",\"Manitoba\", \"Ontario\", \"Quebec\", \\\n",
    "                        \"New Brunswick\", \"Newfoundland and Labrador\", \"Nova Scotia\",\"Prince Edward Island\",\\\n",
    "                        ], data=b)\n",
    "plt.ylim(5000, 23512593.0)\n",
    "plt.xticks(rotation = 90)\n",
    "plt.title('The Number of tests conducted in each province of Canada', size = 10)\n",
    "plt.xlabel('Provinces of Canada (from west to east)')\n",
    "plt.ylabel('Test conducted (in millions)')\n",
    "\n"
   ]
  },
  {
   "cell_type": "markdown",
   "metadata": {
    "colab_type": "text",
    "id": "YEfyfQtu2gZQ"
   },
   "source": [
    "* From the bar graph above, Ontario has conducted the maximum number of tests till date (22 million) followed by Quebec (15.91 million).\n",
    "* I have excluded the three territories from the comparison as the question has specifically mentioned provinces of Canada. "
   ]
  },
  {
   "cell_type": "markdown",
   "metadata": {
    "colab_type": "text",
    "id": "Skkue0wv2gZQ"
   },
   "source": [
    "### <font color='#8B0000'> Q6 Create a bar plot that shows the number of tests conducted per 1000 people for each province in Canada.</font>\n",
    "How would you interpret the results of this bar plot given the results of bar plot in question 5. "
   ]
  },
  {
   "cell_type": "code",
   "execution_count": 1486,
   "metadata": {},
   "outputs": [],
   "source": [
    "c = a.groupby(['administrative_area_level_2']).mean('tests').reset_index()"
   ]
  },
  {
   "cell_type": "code",
   "execution_count": 1487,
   "metadata": {
    "colab": {},
    "colab_type": "code",
    "id": "J3sgn95f2gZQ"
   },
   "outputs": [
    {
     "data": {
      "text/plain": [
       "Text(0, 0.5, 'Number of tests conducted per 1000 people')"
      ]
     },
     "execution_count": 1487,
     "metadata": {},
     "output_type": "execute_result"
    },
    {
     "data": {
      "image/png": "[encoded data removed]",
      "text/plain": [
       "<Figure size 432x288 with 1 Axes>"
      ]
     },
     "metadata": {
      "needs_background": "light"
     },
     "output_type": "display_data"
    }
   ],
   "source": [
    "test_1000 = c.merge(canada[['population', 'administrative_area_level_2']], on='administrative_area_level_2',\\\n",
    "                    how='left')\n",
    "test_1000 = test_1000.drop_duplicates()\n",
    "test_1000['testper1000'] = (test_1000['tests'].div(test_1000['population'].div(1000)))\n",
    "av = sns.barplot(x=\"administrative_area_level_2\", y=\"testper1000\",\\\n",
    "                 order=[\"British Columbia\", \"Alberta\", \"Saskatchewan\",\"Manitoba\", \"Ontario\", \"Quebec\", \\\n",
    "                        \"New Brunswick\", \"Newfoundland and Labrador\", \"Nova Scotia\",\"Prince Edward Island\",\\\n",
    "                        ], data=test_1000)\n",
    "plt.xticks(rotation = 90)\n",
    "plt.title('The Number of tests conducted per 1000 people in each province of Canada', size = 12)\n",
    "plt.xlabel('Provinces of Canada (from west to east)')\n",
    "plt.ylabel('Number of tests conducted per 1000 people')"
   ]
  },
  {
   "cell_type": "markdown",
   "metadata": {
    "colab_type": "text",
    "id": "OeTYYDMO2gZT"
   },
   "source": [
    "* When comparing with the graph above, even though Quebec has conducted overall less tests than Ontario, they have carried out more tests per 1000 population (more than 750 tests per 1000 people) and Ontario has done less tests per 1000 population (around 670 tests per 1000 people). \n",
    "* Also interesting fact to note is that Prince Edward Island has conducted least amount of COVID 19 tests. However, when we view the number as tests conducted per 1000 people, they have conducted 700 tests per 1000 people, which is more than Ontario. \n"
   ]
  },
  {
   "cell_type": "markdown",
   "metadata": {
    "colab_type": "text",
    "id": "kF2a-RsJ2gZU"
   },
   "source": [
    "### <font color='#8B0000'> Q7 Create a visualization that shows which Canadian province has the highest recovery rate. </font>\n",
    "Recovery rate is calculated as the number of recovered cases divided by the number of confirmed cases."
   ]
  },
  {
   "cell_type": "code",
   "execution_count": 1497,
   "metadata": {
    "colab": {},
    "colab_type": "code",
    "id": "JpzjGH8S5gIy"
   },
   "outputs": [],
   "source": [
    "recovery_rate = canada[['administrative_area_level_2', 'recovered', 'confirmed']]\n",
    "recovery_rate = recovery_rate.dropna()\n",
    "recovery_rate = recovery_rate.groupby('administrative_area_level_2').max('recovered').reset_index()"
   ]
  },
  {
   "cell_type": "code",
   "execution_count": 1498,
   "metadata": {},
   "outputs": [
    {
     "data": {
      "text/plain": [
       "Text(0, 0.5, 'Recovery rate (in percentage)')"
      ]
     },
     "execution_count": 1498,
     "metadata": {},
     "output_type": "execute_result"
    },
    {
     "data": {
      "image/png": "[encoded data removed]",
      "text/plain": [
       "<Figure size 432x288 with 1 Axes>"
      ]
     },
     "metadata": {
      "needs_background": "light"
     },
     "output_type": "display_data"
    }
   ],
   "source": [
    "\n",
    "recovery_rate['recovery_rate'] = round((recovery_rate['recovered']/recovery_rate['confirmed'])*100,2)\n",
    "am = sns.barplot(x=\"administrative_area_level_2\", y=\"recovery_rate\",\\\n",
    "                 order=[\"British Columbia\", \"Alberta\", \"Saskatchewan\",\"Manitoba\", \"Ontario\", \"Quebec\", \\\n",
    "                        \"New Brunswick\", \"Newfoundland and Labrador\", \"Nova Scotia\",\"Prince Edward Island\",\\\n",
    "                        ], data=recovery_rate)\n",
    "plt.xticks(rotation = 90)\n",
    "plt.ylim(70, 100)\n",
    "plt.title('Recovery Rate in each province of Canada', size = 14)\n",
    "plt.xlabel('Provinces of Canada (from west to east)')\n",
    "plt.ylabel('Recovery rate (in percentage)')"
   ]
  },
  {
   "cell_type": "markdown",
   "metadata": {},
   "source": [
    "* The recovery rate of Ontario is highest folllowed by Quebec. Whereas the recovery rate of Prince Edward Island is the lowest of all provinces. "
   ]
  },
  {
   "cell_type": "markdown",
   "metadata": {
    "colab_type": "text",
    "id": "Au4YdEij2gZU"
   },
   "source": [
    "(Use this space to explain your answers)"
   ]
  },
  {
   "cell_type": "markdown",
   "metadata": {
    "colab_type": "text",
    "id": "1ypeZjWN2gZV"
   },
   "source": [
    "### <font color='#8B0000'> Q8 Create visualizations that show the impacts of _at least_ three policy measures on mortality or infection rates.</font>\n",
    "\n",
    "\n",
    "See https://covid19datahub.io/articles/doc/data.html for descriptions of the available policy measures.  You are not limited to histograms and bar charts.  Remember that you can use subplots!\n"
   ]
  },
  {
   "cell_type": "code",
   "execution_count": 1499,
   "metadata": {
    "colab": {},
    "colab_type": "code",
    "id": "-7-V1pJ52gZW"
   },
   "outputs": [
    {
     "name": "stdout",
     "output_type": "stream",
     "text": [
      "We have invested a lot of time and effort in creating COVID-19 Data Hub, please cite the following when using it:\n",
      "\n",
      "\t\u001b[1mGuidotti, E., Ardia, D., (2020), \"COVID-19 Data Hub\", Journal of Open Source Software 5(51):2376, doi: 10.21105/joss.02376.\u001b[0m\n",
      "\n",
      "A BibTeX entry for LaTeX users is\n",
      "\n",
      "\t@Article{,\n",
      "\t\ttitle = {COVID-19 Data Hub},\n",
      "\t\tyear = {2020},\n",
      "\t\tdoi = {10.21105/joss.02376},\n",
      "\t\tauthor = {Emanuele Guidotti and David Ardia},\n",
      "\t\tjournal = {Journal of Open Source Software},\n",
      "\t\tvolume = {5},\n",
      "\t\tnumber = {51},\n",
      "\t\tpages = {2376},\n",
      "\t}\n",
      "\n",
      "\u001b[33mTo hide this message use 'verbose = False'.\u001b[0m\n"
     ]
    },
    {
     "data": {
      "text/html": [
       "<div>\n",
       "<style scoped>\n",
       "    .dataframe tbody tr th:only-of-type {\n",
       "        vertical-align: middle;\n",
       "    }\n",
       "\n",
       "    .dataframe tbody tr th {\n",
       "        vertical-align: top;\n",
       "    }\n",
       "\n",
       "    .dataframe thead th {\n",
       "        text-align: right;\n",
       "    }\n",
       "</style>\n",
       "<table border=\"1\" class=\"dataframe\">\n",
       "  <thead>\n",
       "    <tr style=\"text-align: right;\">\n",
       "      <th></th>\n",
       "      <th>date</th>\n",
       "      <th>administrative_area_level_2</th>\n",
       "      <th>testing_policy</th>\n",
       "      <th>elderly_people_protection</th>\n",
       "      <th>transport_closing</th>\n",
       "      <th>gatherings_restrictions</th>\n",
       "      <th>facial_coverings</th>\n",
       "      <th>deaths</th>\n",
       "      <th>stay_home_restrictions</th>\n",
       "      <th>internal_movement_restrictions</th>\n",
       "      <th>population</th>\n",
       "    </tr>\n",
       "  </thead>\n",
       "  <tbody>\n",
       "    <tr>\n",
       "      <th>3770</th>\n",
       "      <td>2021-01-01</td>\n",
       "      <td>Prince Edward Island</td>\n",
       "      <td>2.0</td>\n",
       "      <td>2.0</td>\n",
       "      <td>0.0</td>\n",
       "      <td>3.0</td>\n",
       "      <td>3.0</td>\n",
       "      <td>0.0</td>\n",
       "      <td>1.0</td>\n",
       "      <td>2.0</td>\n",
       "      <td>158158</td>\n",
       "    </tr>\n",
       "    <tr>\n",
       "      <th>3771</th>\n",
       "      <td>2021-01-02</td>\n",
       "      <td>Prince Edward Island</td>\n",
       "      <td>2.0</td>\n",
       "      <td>2.0</td>\n",
       "      <td>0.0</td>\n",
       "      <td>3.0</td>\n",
       "      <td>3.0</td>\n",
       "      <td>0.0</td>\n",
       "      <td>1.0</td>\n",
       "      <td>2.0</td>\n",
       "      <td>158158</td>\n",
       "    </tr>\n",
       "    <tr>\n",
       "      <th>3772</th>\n",
       "      <td>2021-01-03</td>\n",
       "      <td>Prince Edward Island</td>\n",
       "      <td>2.0</td>\n",
       "      <td>2.0</td>\n",
       "      <td>0.0</td>\n",
       "      <td>3.0</td>\n",
       "      <td>3.0</td>\n",
       "      <td>0.0</td>\n",
       "      <td>1.0</td>\n",
       "      <td>2.0</td>\n",
       "      <td>158158</td>\n",
       "    </tr>\n",
       "    <tr>\n",
       "      <th>3773</th>\n",
       "      <td>2021-01-04</td>\n",
       "      <td>Prince Edward Island</td>\n",
       "      <td>2.0</td>\n",
       "      <td>2.0</td>\n",
       "      <td>0.0</td>\n",
       "      <td>3.0</td>\n",
       "      <td>3.0</td>\n",
       "      <td>0.0</td>\n",
       "      <td>1.0</td>\n",
       "      <td>2.0</td>\n",
       "      <td>158158</td>\n",
       "    </tr>\n",
       "    <tr>\n",
       "      <th>3774</th>\n",
       "      <td>2021-01-05</td>\n",
       "      <td>Prince Edward Island</td>\n",
       "      <td>2.0</td>\n",
       "      <td>2.0</td>\n",
       "      <td>0.0</td>\n",
       "      <td>3.0</td>\n",
       "      <td>3.0</td>\n",
       "      <td>0.0</td>\n",
       "      <td>1.0</td>\n",
       "      <td>2.0</td>\n",
       "      <td>158158</td>\n",
       "    </tr>\n",
       "    <tr>\n",
       "      <th>...</th>\n",
       "      <td>...</td>\n",
       "      <td>...</td>\n",
       "      <td>...</td>\n",
       "      <td>...</td>\n",
       "      <td>...</td>\n",
       "      <td>...</td>\n",
       "      <td>...</td>\n",
       "      <td>...</td>\n",
       "      <td>...</td>\n",
       "      <td>...</td>\n",
       "      <td>...</td>\n",
       "    </tr>\n",
       "    <tr>\n",
       "      <th>494819</th>\n",
       "      <td>2021-12-26</td>\n",
       "      <td>Northwest Territories</td>\n",
       "      <td>2.0</td>\n",
       "      <td>2.0</td>\n",
       "      <td>-1.0</td>\n",
       "      <td>3.0</td>\n",
       "      <td>3.0</td>\n",
       "      <td>12.0</td>\n",
       "      <td>1.0</td>\n",
       "      <td>2.0</td>\n",
       "      <td>44904</td>\n",
       "    </tr>\n",
       "    <tr>\n",
       "      <th>494820</th>\n",
       "      <td>2021-12-27</td>\n",
       "      <td>Northwest Territories</td>\n",
       "      <td>2.0</td>\n",
       "      <td>2.0</td>\n",
       "      <td>-1.0</td>\n",
       "      <td>3.0</td>\n",
       "      <td>3.0</td>\n",
       "      <td>12.0</td>\n",
       "      <td>1.0</td>\n",
       "      <td>2.0</td>\n",
       "      <td>44904</td>\n",
       "    </tr>\n",
       "    <tr>\n",
       "      <th>494821</th>\n",
       "      <td>2021-12-28</td>\n",
       "      <td>Northwest Territories</td>\n",
       "      <td>2.0</td>\n",
       "      <td>2.0</td>\n",
       "      <td>-1.0</td>\n",
       "      <td>3.0</td>\n",
       "      <td>3.0</td>\n",
       "      <td>12.0</td>\n",
       "      <td>1.0</td>\n",
       "      <td>2.0</td>\n",
       "      <td>44904</td>\n",
       "    </tr>\n",
       "    <tr>\n",
       "      <th>494822</th>\n",
       "      <td>2021-12-29</td>\n",
       "      <td>Northwest Territories</td>\n",
       "      <td>2.0</td>\n",
       "      <td>2.0</td>\n",
       "      <td>-1.0</td>\n",
       "      <td>3.0</td>\n",
       "      <td>3.0</td>\n",
       "      <td>12.0</td>\n",
       "      <td>1.0</td>\n",
       "      <td>2.0</td>\n",
       "      <td>44904</td>\n",
       "    </tr>\n",
       "    <tr>\n",
       "      <th>494823</th>\n",
       "      <td>2021-12-30</td>\n",
       "      <td>Northwest Territories</td>\n",
       "      <td>2.0</td>\n",
       "      <td>2.0</td>\n",
       "      <td>-1.0</td>\n",
       "      <td>3.0</td>\n",
       "      <td>3.0</td>\n",
       "      <td>12.0</td>\n",
       "      <td>1.0</td>\n",
       "      <td>2.0</td>\n",
       "      <td>44904</td>\n",
       "    </tr>\n",
       "  </tbody>\n",
       "</table>\n",
       "<p>4559 rows × 11 columns</p>\n",
       "</div>"
      ],
      "text/plain": [
       "             date administrative_area_level_2  testing_policy  \\\n",
       "3770   2021-01-01        Prince Edward Island             2.0   \n",
       "3771   2021-01-02        Prince Edward Island             2.0   \n",
       "3772   2021-01-03        Prince Edward Island             2.0   \n",
       "3773   2021-01-04        Prince Edward Island             2.0   \n",
       "3774   2021-01-05        Prince Edward Island             2.0   \n",
       "...           ...                         ...             ...   \n",
       "494819 2021-12-26       Northwest Territories             2.0   \n",
       "494820 2021-12-27       Northwest Territories             2.0   \n",
       "494821 2021-12-28       Northwest Territories             2.0   \n",
       "494822 2021-12-29       Northwest Territories             2.0   \n",
       "494823 2021-12-30       Northwest Territories             2.0   \n",
       "\n",
       "        elderly_people_protection  transport_closing  gatherings_restrictions  \\\n",
       "3770                          2.0                0.0                      3.0   \n",
       "3771                          2.0                0.0                      3.0   \n",
       "3772                          2.0                0.0                      3.0   \n",
       "3773                          2.0                0.0                      3.0   \n",
       "3774                          2.0                0.0                      3.0   \n",
       "...                           ...                ...                      ...   \n",
       "494819                        2.0               -1.0                      3.0   \n",
       "494820                        2.0               -1.0                      3.0   \n",
       "494821                        2.0               -1.0                      3.0   \n",
       "494822                        2.0               -1.0                      3.0   \n",
       "494823                        2.0               -1.0                      3.0   \n",
       "\n",
       "        facial_coverings  deaths  stay_home_restrictions  \\\n",
       "3770                 3.0     0.0                     1.0   \n",
       "3771                 3.0     0.0                     1.0   \n",
       "3772                 3.0     0.0                     1.0   \n",
       "3773                 3.0     0.0                     1.0   \n",
       "3774                 3.0     0.0                     1.0   \n",
       "...                  ...     ...                     ...   \n",
       "494819               3.0    12.0                     1.0   \n",
       "494820               3.0    12.0                     1.0   \n",
       "494821               3.0    12.0                     1.0   \n",
       "494822               3.0    12.0                     1.0   \n",
       "494823               3.0    12.0                     1.0   \n",
       "\n",
       "        internal_movement_restrictions  population  \n",
       "3770                               2.0      158158  \n",
       "3771                               2.0      158158  \n",
       "3772                               2.0      158158  \n",
       "3773                               2.0      158158  \n",
       "3774                               2.0      158158  \n",
       "...                                ...         ...  \n",
       "494819                             2.0       44904  \n",
       "494820                             2.0       44904  \n",
       "494821                             2.0       44904  \n",
       "494822                             2.0       44904  \n",
       "494823                             2.0       44904  \n",
       "\n",
       "[4559 rows x 11 columns]"
      ]
     },
     "execution_count": 1499,
     "metadata": {},
     "output_type": "execute_result"
    }
   ],
   "source": [
    "canada1,src = covid19(\"CAN\",level = 2, start='2021-01-01', end='2021-12-30')\n",
    "mortality_rate = canada1[['date','administrative_area_level_2', 'testing_policy','elderly_people_protection','transport_closing', 'gatherings_restrictions', 'facial_coverings','deaths', 'stay_home_restrictions', 'internal_movement_restrictions', 'population']]\n",
    "mortality_rate = mortality_rate.dropna()\n",
    "mortality_rate"
   ]
  },
  {
   "cell_type": "code",
   "execution_count": 1500,
   "metadata": {},
   "outputs": [],
   "source": [
    "mortality_rate['mortality_rate'] = (mortality_rate['deaths'].div(mortality_rate['population']))*1000\n",
    "mortality_rate['internal_movement_restrictions'] = abs(mortality_rate['internal_movement_restrictions'])\n",
    "mortality_rate['testing_policy'] = abs(mortality_rate['testing_policy'])\n",
    "mortality_rate['stay_home_restrictions'] = abs(mortality_rate['stay_home_restrictions'])\n",
    "mortality_rate['facial_coverings'] = abs(mortality_rate['facial_coverings'])\n",
    "mortality_rate['elderly_people_protection'] = abs(mortality_rate['elderly_people_protection'])"
   ]
  },
  {
   "cell_type": "code",
   "execution_count": 1501,
   "metadata": {},
   "outputs": [
    {
     "data": {
      "image/png": "[encoded data removed]",
      "text/plain": [
       "<Figure size 432x288 with 1 Axes>"
      ]
     },
     "metadata": {
      "needs_background": "light"
     },
     "output_type": "display_data"
    }
   ],
   "source": [
    "mortality_rate2 = mortality_rate[['date', 'internal_movement_restrictions',\\\n",
    "                                  'administrative_area_level_2', 'mortality_rate']]\n",
    "mortality_rate2 = mortality_rate2[mortality_rate2['administrative_area_level_2'] == 'Quebec']\n",
    "mortality_rate2.date = mortality_rate2.date.astype(str)\n",
    "f, ax = plt.subplots()\n",
    "sns.lineplot(x=mortality_rate2['date'], y=mortality_rate2['mortality_rate'], \\\n",
    "             style = mortality_rate2['internal_movement_restrictions'],data=mortality_rate2)\n",
    "fig.autofmt_xdate()\n",
    "ax.fmt_xdata = mdates.DateFormatter('%Y-%m-%d')\n",
    "ax.xaxis.set_major_locator(mdates.MonthLocator(bymonth=()))\n",
    "ax.xaxis.set_minor_locator(mdates.MonthLocator())\n",
    "plt.xticks(rotation = 45, size=10)\n",
    "plt.legend(bbox_to_anchor=(1.1, 1), loc=2, borderaxespad=0., title=\"Internal movement restrictions\")\n",
    "plt.xlabel('Date')\n",
    "plt.ylabel('Mortality Rate')\n",
    "plt.title('Impact of Internal movement restrictions on \\nMortality rate in Quebec (01-01-2021 to 12-01-2021)')\n",
    "plt.show()"
   ]
  },
  {
   "cell_type": "code",
   "execution_count": 1502,
   "metadata": {},
   "outputs": [
    {
     "data": {
      "image/png": "[encoded data removed]",
      "text/plain": [
       "<Figure size 432x288 with 1 Axes>"
      ]
     },
     "metadata": {
      "needs_background": "light"
     },
     "output_type": "display_data"
    }
   ],
   "source": [
    "mortality_rate3 = mortality_rate[['date', 'stay_home_restrictions','administrative_area_level_2', 'mortality_rate']]\n",
    "mortality_rate3 = mortality_rate3[mortality_rate3['administrative_area_level_2'] == 'Quebec']\n",
    "mortality_rate3.date = mortality_rate3.date.astype(str)\n",
    "f, ax = plt.subplots()\n",
    "sns.lineplot(x=mortality_rate3['date'], y=mortality_rate3['mortality_rate'], \\\n",
    "             style = mortality_rate3['stay_home_restrictions'],data=mortality_rate3)\n",
    "fig.autofmt_xdate()\n",
    "ax.fmt_xdata = mdates.DateFormatter('%Y-%m-%d')\n",
    "ax.xaxis.set_major_locator(mdates.MonthLocator(bymonth=()))\n",
    "ax.xaxis.set_minor_locator(mdates.MonthLocator())\n",
    "plt.xticks(rotation = 90)\n",
    "plt.legend(bbox_to_anchor=(1.1, 1), loc=2, borderaxespad=0., title=\"Stay home restrictions\")\n",
    "plt.xlabel('Date')\n",
    "plt.ylabel('Mortality Rate')\n",
    "plt.title('Impact of Stay home restrictions on \\nMortality rate in Quebec (01-01-2021 to 12-01-2021)')\n",
    "plt.show()"
   ]
  },
  {
   "cell_type": "code",
   "execution_count": 1503,
   "metadata": {},
   "outputs": [
    {
     "data": {
      "image/png": "[encoded data removed]",
      "text/plain": [
       "<Figure size 432x288 with 1 Axes>"
      ]
     },
     "metadata": {
      "needs_background": "light"
     },
     "output_type": "display_data"
    }
   ],
   "source": [
    "mortality_rate4 = mortality_rate[['date', 'elderly_people_protection',\\\n",
    "                                  'administrative_area_level_2', 'mortality_rate']]\n",
    "mortality_rate4.date = mortality_rate4.date.astype(str)\n",
    "mortality_rate4 = mortality_rate4[mortality_rate4['administrative_area_level_2'] == 'Quebec']\n",
    "f, ax = plt.subplots()\n",
    "sns.lineplot(x=mortality_rate4['date'], y=mortality_rate4['mortality_rate'], \\\n",
    "             style = mortality_rate4['elderly_people_protection'],data=mortality_rate4)\n",
    "fig.autofmt_xdate()\n",
    "ax.fmt_xdata = mdates.DateFormatter('%Y-%m-%d')\n",
    "ax.xaxis.set_major_locator(mdates.MonthLocator(bymonth=()))\n",
    "ax.xaxis.set_minor_locator(mdates.MonthLocator())\n",
    "plt.xticks(rotation = 90)\n",
    "plt.legend(bbox_to_anchor=(1.1, 1), loc=2, borderaxespad=0., title=\"Elderly people protection\")\n",
    "plt.xlabel('Date')\n",
    "plt.ylabel('Mortality Rate')\n",
    "plt.title('Impact of elderly people protection on \\nMortality rate in Quebec (01-01-2021 to 12-01-2021)')\n",
    "plt.show()"
   ]
  },
  {
   "cell_type": "markdown",
   "metadata": {
    "colab_type": "text",
    "id": "83mPoFFx2gZY"
   },
   "source": [
    "* I have selected Quebec for visualizaing the impact of policies on mortality rate. The time period that I have chosen for my visualization is from January 01, 2021 to December 30, 2021. The reason behind chosing this timeline is because the COVID 19 pandemic was uncertain during that time and we had two waves during that period of time, therefore, there were many policy changes (relaxation or tigtening of the policies). \n",
    "* When we look at the line plot for impact of internal movement restriction on mortality rate, we can see that Quebec had moderate policy for internal movement (01:  recommend not to travel between regions/cities) during the start of the year and they tigetened the policy around April 2021 (02: internal movement restrictions in place). This lead to flattening of the curve. However, they relaxed the policy in June 2021 and this lead to increase in mortality rate in later half of the year. \n",
    "* When we look at the line plot for impact of stay home restriction on mortality rate, we can see that Quebec had moderate policy for stay home restriction (02:  require not leaving house with exceptions for daily exercise, grocery shopping, and ‘essential’ trips) during the start of the year and they relaxed the policy around June 2021 (01: ecommend not leaving house ). This lead to increase in mortality rate in later half of the year. \n",
    "\n",
    "* When we look at the line plot for impact of elderly people protection on mortality rate, we can see that Quebec had stringent policy for elderly people protection (03:  Extensive restrictions for isolation and hygiene in LTCFs, all non-essential external visitors prohibited, and/or all elderly people required to stay at home and not leave the home with minimal exceptions, and receive no external visitors) and they relaxed the measures/policies gradually (from 03 to 02 and finally to 01 at the later half of the year. This lead to increase in mortality rate in later half of the year. "
   ]
  },
  {
   "cell_type": "markdown",
   "metadata": {},
   "source": [
    "## <font color='green'> Please submit your completed notebook in .IPYNB and .HTML formats via Canvas </font>"
   ]
  }
 ],
 "metadata": {
  "colab": {
   "collapsed_sections": [],
   "name": "370_Homework_2.ipynb",
   "provenance": []
  },
  "kernelspec": {
   "display_name": "Python 3",
   "language": "python",
   "name": "python3"
  },
  "language_info": {
   "codemirror_mode": {
    "name": "ipython",
    "version": 3
   },
   "file_extension": ".py",
   "mimetype": "text/x-python",
   "name": "python",
   "nbconvert_exporter": "python",
   "pygments_lexer": "ipython3",
   "version": "3.8.8"
  }
 },
 "nbformat": 4,
 "nbformat_minor": 4
}
